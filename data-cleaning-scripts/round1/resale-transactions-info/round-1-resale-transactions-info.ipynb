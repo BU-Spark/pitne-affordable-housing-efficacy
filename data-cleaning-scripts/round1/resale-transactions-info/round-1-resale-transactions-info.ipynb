{
 "cells": [
  {
   "cell_type": "code",
   "execution_count": null,
   "id": "85701487",
   "metadata": {},
   "outputs": [],
   "source": [
    "import numpy as np\n",
    "\n",
    "import pandas as pd\n",
    "\n",
    "# importing required libraries"
   ]
  },
  {
   "cell_type": "code",
   "execution_count": null,
   "id": "2f899d27",
   "metadata": {},
   "outputs": [],
   "source": [
    "df = pd.read_csv(\"TOUCHABLE Resale Transaction Info - Confidential.xlsx - Ari's Copy of Resale Transaction Info - Confi.csv\")\n",
    "# storing the csv file as a dataframe in df"
   ]
  },
  {
   "cell_type": "code",
   "execution_count": null,
   "id": "96359254",
   "metadata": {},
   "outputs": [],
   "source": [
    "# df.head()\n",
    "# prints header, containing all of the column names for reference"
   ]
  },
  {
   "cell_type": "code",
   "execution_count": null,
   "id": "7b5a7f7f",
   "metadata": {},
   "outputs": [],
   "source": [
    "# Function to split the \"Town - Development - Address\" column into four columns\n",
    "# uses df to get the data\n",
    "# creates a duplicate csv file in the directory\n",
    "# splitting column data in “Town - Development - Address” from the original csv\n",
    "# into 4 varaibles for Town, Development, Address, Unit Number\n",
    "# adds these variable values for each row into the respective columns in a duplicate csv file\n",
    "# also returns the duplicate csv file as a dataframe\n",
    "\n",
    "def split_and_duplicate_csv(df):\n",
    "    # Split the \"Town - Development</br>Address</br>Unit: Unit Number\" formatted column\n",
    "    split_main = df[\"Town - Development - Address\"].str.split(\" - \", n=1, expand=True)\n",
    "    town = split_main[0]\n",
    "    remaining = split_main[1]\n",
    "\n",
    "    split_remaining = remaining.str.split(\"</br>\", expand=True)\n",
    "    development = split_remaining[0]\n",
    "    address = split_remaining[1]\n",
    "\n",
    "    unit_number = split_remaining[2].str.replace(\"Unit: \", \"\", regex=True)\n",
    "\n",
    "    # Assign the extracted values to new columns\n",
    "    df[\"Town\"] = town\n",
    "    df[\"Development\"] = development\n",
    "    df[\"Address\"] = address\n",
    "    df[\"Unit Number:\"] = unit_number\n",
    "\n",
    "    # Save the modified dataframe to a duplicate CSV file\n",
    "    df.to_csv(\"duplicate.csv\", index=True)\n",
    "    return df\n",
    "\n",
    "df_new = split_and_duplicate_csv(df)\n",
    "# df_new.head() # Display first few rows of the modified dataframe\n"
   ]
  },
  {
   "cell_type": "code",
   "execution_count": null,
   "id": "a9a591ac",
   "metadata": {},
   "outputs": [],
   "source": []
  }
 ],
 "metadata": {
  "kernelspec": {
   "display_name": "Python 3",
   "language": "python",
   "name": "python3"
  },
  "language_info": {
   "codemirror_mode": {
    "name": "ipython",
    "version": 3
   },
   "file_extension": ".py",
   "mimetype": "text/x-python",
   "name": "python",
   "nbconvert_exporter": "python",
   "pygments_lexer": "ipython3",
   "version": "3.13.3"
  }
 },
 "nbformat": 4,
 "nbformat_minor": 5
}
