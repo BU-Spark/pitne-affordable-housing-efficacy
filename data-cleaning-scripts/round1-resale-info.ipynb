{
 "cells": [
  {
   "cell_type": "code",
   "execution_count": null,
   "id": "ef894863",
   "metadata": {},
   "outputs": [],
   "source": [
    "# Function to split the \"Town - Development - Address\" column into four columns\n",
    "# uses df to get the data\n",
    "# creates a duplicate csv file in the directory\n",
    "# splitting column data in “Town - Development - Address” from the original csv\n",
    "# into 4 varaibles for Town, Development, Address, Unit Number\n",
    "# adds these variable values for each row into the respective columns in a duplicate csv file\n",
    "# also returns the duplicate csv file as a dataframe\n",
    "\n",
    "def split_and_duplicate_csv(df):\n",
    "    # Split the \"Town - Development</br>Address</br>Unit: Unit Number\" formatted column\n",
    "    split_main = df[\"Town - Development - Address\"].str.split(\" - \", n=1, expand=True)\n",
    "    town = split_main[0]\n",
    "    remaining = split_main[1]\n",
    "\n",
    "    split_remaining = remaining.str.split(\"</br>\", expand=True)\n",
    "    development = split_remaining[0]\n",
    "    address = split_remaining[1]\n",
    "\n",
    "    unit_number = split_remaining[2].str.replace(\"Unit: \", \"\", regex=True)\n",
    "\n",
    "    # Assign the extracted values to new columns\n",
    "    df[\"Town\"] = town\n",
    "    df[\"Development\"] = development\n",
    "    df[\"Address\"] = address\n",
    "    df[\"Unit Number:\"] = unit_number\n",
    "\n",
    "    # Save the modified dataframe to a duplicate CSV file\n",
    "    df.to_csv(\"duplicate.csv\", index=True)\n",
    "    return df\n",
    "\n",
    "df_new = split_and_duplicate_csv(df)\n",
    "# df_new.head() # Display first few rows of the modified dataframe"
   ]
  }
 ],
 "metadata": {
  "language_info": {
   "name": "python"
  }
 },
 "nbformat": 4,
 "nbformat_minor": 5
}
